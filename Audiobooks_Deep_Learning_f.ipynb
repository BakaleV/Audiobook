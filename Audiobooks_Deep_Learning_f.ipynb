{
 "cells": [
  {
   "cell_type": "markdown",
   "metadata": {},
   "source": [
    "# Audiobook Analysis"
   ]
  },
  {
   "cell_type": "code",
   "execution_count": 2,
   "metadata": {},
   "outputs": [],
   "source": [
    "import numpy as np\n",
    "import tensorflow as tf\n",
    "from sklearn import preprocessing\n",
    "\n",
    "# Load the data\n",
    "raw_csv_data = np.loadtxt('Audiobooks_data.csv',delimiter=',')\n",
    "\n",
    "unscaled_inputs_all = raw_csv_data[:,1:-1]\n",
    "\n",
    "targets_all = raw_csv_data[:,-1]"
   ]
  },
  {
   "cell_type": "markdown",
   "metadata": {},
   "source": [
    "### Balance the dataset"
   ]
  },
  {
   "cell_type": "code",
   "execution_count": 3,
   "metadata": {},
   "outputs": [],
   "source": [
    "# Count how many targets are 1 \n",
    "num_one_targets = int(np.sum(targets_all))\n",
    "\n",
    "# Set a counter for targets that are 0 \n",
    "zero_targets_counter = 0\n",
    "\n",
    "\n",
    "indices_to_remove = []\n",
    "\n",
    "# Count the number of targets that are 0. \n",
    "# Once there are as many 0s as 1s, mark entries where the target is 0.\n",
    "for i in range(targets_all.shape[0]):\n",
    "    if targets_all[i] == 0:\n",
    "        zero_targets_counter += 1\n",
    "        if zero_targets_counter > num_one_targets:\n",
    "            indices_to_remove.append(i)\n",
    "\n",
    "# Create two new variables, one that will contain the inputs, and one that will contain the targets.\n",
    "# We delete all indices that we marked \"to remove\" in the loop above.\n",
    "unscaled_inputs_equal_priors = np.delete(unscaled_inputs_all, indices_to_remove, axis=0)\n",
    "targets_equal_priors = np.delete(targets_all, indices_to_remove, axis=0)"
   ]
  },
  {
   "cell_type": "markdown",
   "metadata": {},
   "source": [
    "### Standardize the inputs"
   ]
  },
  {
   "cell_type": "code",
   "execution_count": 4,
   "metadata": {},
   "outputs": [],
   "source": [
    "scaled_inputs = preprocessing.scale(unscaled_inputs_equal_priors)"
   ]
  },
  {
   "cell_type": "markdown",
   "metadata": {},
   "source": [
    "### Shuffle the data"
   ]
  },
  {
   "cell_type": "code",
   "execution_count": 5,
   "metadata": {},
   "outputs": [],
   "source": [
    "shuffled_indices = np.arange(scaled_inputs.shape[0])\n",
    "np.random.shuffle(shuffled_indices)\n",
    "# Use the shuffled indices to shuffle the inputs and targets.\n",
    "shuffled_inputs = scaled_inputs[shuffled_indices]\n",
    "shuffled_targets = targets_equal_priors[shuffled_indices]"
   ]
  },
  {
   "cell_type": "markdown",
   "metadata": {},
   "source": [
    "### Split the dataset into train, validation, and test"
   ]
  },
  {
   "cell_type": "code",
   "execution_count": 6,
   "metadata": {},
   "outputs": [
    {
     "name": "stdout",
     "output_type": "stream",
     "text": [
      "1802.0 3579 0.5034925956971221\n",
      "208.0 447 0.465324384787472\n",
      "227.0 448 0.5066964285714286\n"
     ]
    }
   ],
   "source": [
    "# Count the total number of samples\n",
    "samples_count = shuffled_inputs.shape[0]\n",
    "\n",
    "train_samples_count = int(0.8 * samples_count)\n",
    "validation_samples_count = int(0.1 * samples_count)\n",
    "\n",
    "\n",
    "test_samples_count = samples_count - train_samples_count - validation_samples_count\n",
    "\n",
    "train_inputs = shuffled_inputs[:train_samples_count]\n",
    "train_targets = shuffled_targets[:train_samples_count]\n",
    "\n",
    "validation_inputs = shuffled_inputs[train_samples_count:train_samples_count+validation_samples_count]\n",
    "validation_targets = shuffled_targets[train_samples_count:train_samples_count+validation_samples_count]\n",
    "\n",
    "test_inputs = shuffled_inputs[train_samples_count+validation_samples_count:]\n",
    "test_targets = shuffled_targets[train_samples_count+validation_samples_count:]\n",
    "\n",
    "# Print the number of targets that are 1s, the total number of samples, and the proportion for training, validation, and test.\n",
    "print(np.sum(train_targets), train_samples_count, np.sum(train_targets) / train_samples_count)\n",
    "print(np.sum(validation_targets), validation_samples_count, np.sum(validation_targets) / validation_samples_count)\n",
    "print(np.sum(test_targets), test_samples_count, np.sum(test_targets) / test_samples_count)"
   ]
  },
  {
   "cell_type": "markdown",
   "metadata": {},
   "source": [
    "### Save the three datasets in *.npz"
   ]
  },
  {
   "cell_type": "code",
   "execution_count": 7,
   "metadata": {},
   "outputs": [],
   "source": [
    "#save as npz\n",
    "np.savez('Audiobooks_data_train', inputs=train_inputs, targets=train_targets)\n",
    "np.savez('Audiobooks_data_validation', inputs=validation_inputs, targets=validation_targets)\n",
    "np.savez('Audiobooks_data_test', inputs=test_inputs, targets=test_targets)"
   ]
  },
  {
   "cell_type": "markdown",
   "metadata": {},
   "source": [
    "### Data"
   ]
  },
  {
   "cell_type": "code",
   "execution_count": 8,
   "metadata": {},
   "outputs": [
    {
     "name": "stdout",
     "output_type": "stream",
     "text": [
      "(3579, 10)\n",
      "(447, 10)\n",
      "(3579,)\n",
      "(447,)\n",
      "[[ 1.27894497  0.41646744 -0.39082475 ...  0.7102813  -0.20183481\n",
      "   0.46453021]\n",
      " [-0.64419501 -0.67316726 -0.39082475 ... -0.41569922 -0.20183481\n",
      "   1.21503662]\n",
      " [-0.85787724 -0.79423778  0.39886313 ...  3.10298991  2.20618899\n",
      "   0.1136441 ]\n",
      " ...\n",
      " [ 1.27894497  0.41646744 -0.12924064 ... -0.41569922 -0.20183481\n",
      "  -0.80255852]\n",
      " [-0.64419501 -0.67316726 -0.39082475 ... -0.41569922 -0.20183481\n",
      "  -0.80255852]\n",
      " [-0.64419501 -0.67316726 -0.12924064 ... -0.41569922 -0.20183481\n",
      "   2.52111269]]\n"
     ]
    }
   ],
   "source": [
    "\n",
    "data = np.load('Audiobooks_data_train.npz')\n",
    "\n",
    "train_inputs = data['inputs'].astype(float)\n",
    "train_targets = data['targets'].astype(int)\n",
    "\n",
    "\n",
    "data = np.load('Audiobooks_data_validation.npz')\n",
    "validation_inputs, validation_targets = data['inputs'].astype(float), data['targets'].astype(int)\n",
    "\n",
    "data = np.load('Audiobooks_data_test.npz')\n",
    "test_inputs, test_targets = data['inputs'].astype(float), data['targets'].astype(int)\n",
    "print(train_inputs.shape)\n",
    "print(validation_inputs.shape)\n",
    "print(train_targets.shape)\n",
    "print(validation_targets.shape)\n",
    "print(train_inputs)"
   ]
  },
  {
   "cell_type": "markdown",
   "metadata": {},
   "source": [
    "### Model\n",
    "Outline, optimizers, loss, early stopping and training"
   ]
  },
  {
   "cell_type": "code",
   "execution_count": 9,
   "metadata": {},
   "outputs": [
    {
     "name": "stdout",
     "output_type": "stream",
     "text": [
      "Epoch 1/100\n",
      "36/36 - 0s - loss: 0.5635 - accuracy: 0.6770 - val_loss: 0.4892 - val_accuracy: 0.7562 - 426ms/epoch - 12ms/step\n",
      "Epoch 2/100\n",
      "36/36 - 0s - loss: 0.4461 - accuracy: 0.7664 - val_loss: 0.4305 - val_accuracy: 0.7472 - 56ms/epoch - 2ms/step\n",
      "Epoch 3/100\n",
      "36/36 - 0s - loss: 0.4034 - accuracy: 0.7846 - val_loss: 0.3984 - val_accuracy: 0.8009 - 51ms/epoch - 1ms/step\n",
      "Epoch 4/100\n",
      "36/36 - 0s - loss: 0.3821 - accuracy: 0.7963 - val_loss: 0.3777 - val_accuracy: 0.7942 - 53ms/epoch - 1ms/step\n",
      "Epoch 5/100\n",
      "36/36 - 0s - loss: 0.3711 - accuracy: 0.7949 - val_loss: 0.3746 - val_accuracy: 0.7964 - 46ms/epoch - 1ms/step\n",
      "Epoch 6/100\n",
      "36/36 - 0s - loss: 0.3611 - accuracy: 0.7999 - val_loss: 0.3642 - val_accuracy: 0.8009 - 48ms/epoch - 1ms/step\n",
      "Epoch 7/100\n",
      "36/36 - 0s - loss: 0.3572 - accuracy: 0.8055 - val_loss: 0.3602 - val_accuracy: 0.7964 - 57ms/epoch - 2ms/step\n",
      "Epoch 8/100\n",
      "36/36 - 0s - loss: 0.3523 - accuracy: 0.8086 - val_loss: 0.3553 - val_accuracy: 0.8121 - 49ms/epoch - 1ms/step\n",
      "Epoch 9/100\n",
      "36/36 - 0s - loss: 0.3483 - accuracy: 0.8064 - val_loss: 0.3534 - val_accuracy: 0.8031 - 48ms/epoch - 1ms/step\n",
      "Epoch 10/100\n",
      "36/36 - 0s - loss: 0.3454 - accuracy: 0.8142 - val_loss: 0.3494 - val_accuracy: 0.8188 - 50ms/epoch - 1ms/step\n",
      "Epoch 11/100\n",
      "36/36 - 0s - loss: 0.3433 - accuracy: 0.8164 - val_loss: 0.3504 - val_accuracy: 0.8009 - 52ms/epoch - 1ms/step\n",
      "Epoch 12/100\n",
      "36/36 - 0s - loss: 0.3425 - accuracy: 0.8086 - val_loss: 0.3581 - val_accuracy: 0.8031 - 53ms/epoch - 1ms/step\n"
     ]
    },
    {
     "data": {
      "text/plain": [
       "<keras.callbacks.History at 0x1db448b1a90>"
      ]
     },
     "execution_count": 9,
     "metadata": {},
     "output_type": "execute_result"
    }
   ],
   "source": [
    "# Set the input and output sizes\n",
    "input_size = 10\n",
    "output_size = 2\n",
    "\n",
    "hidden_layer_size = 50\n",
    "    \n",
    "# define how the model will look like\n",
    "model = tf.keras.Sequential([\n",
    "\n",
    "                  tf.keras.layers.Dense(hidden_layer_size, activation='relu'),\n",
    "                  tf.keras.layers.Dense(hidden_layer_size, activation='relu'), \n",
    "                  tf.keras.layers.Dense(output_size, activation='softmax')\n",
    "                            ])\n",
    "\n",
    "\n",
    "\n",
    "model.compile(optimizer='adam', loss='sparse_categorical_crossentropy', metrics=['accuracy'])\n",
    "\n",
    "batch_size = 100\n",
    "max_epochs = 100\n",
    "early_stopping = tf.keras.callbacks.EarlyStopping(patience=2)\n",
    "model.fit(train_inputs,\n",
    "          train_targets,\n",
    "          batch_size=batch_size,\n",
    "          epochs=max_epochs,\n",
    "          callbacks=[early_stopping],\n",
    "          validation_data=(validation_inputs, validation_targets),\n",
    "          verbose = 2 \n",
    "          )  "
   ]
  },
  {
   "cell_type": "code",
   "execution_count": 10,
   "metadata": {},
   "outputs": [
    {
     "name": "stdout",
     "output_type": "stream",
     "text": [
      "14/14 [==============================] - 0s 2ms/step - loss: 0.3210 - accuracy: 0.8393\n"
     ]
    }
   ],
   "source": [
    "test_loss, test_accuracy = model.evaluate(test_inputs, test_targets)"
   ]
  },
  {
   "cell_type": "code",
   "execution_count": 11,
   "metadata": {},
   "outputs": [
    {
     "name": "stdout",
     "output_type": "stream",
     "text": [
      "\n",
      "Test loss: 0.32. Test accuracy: 83.93%\n"
     ]
    }
   ],
   "source": [
    "print('\\nTest loss: {0:.2f}. Test accuracy: {1:.2f}%'.format(test_loss, test_accuracy*100.))"
   ]
  },
  {
   "cell_type": "code",
   "execution_count": null,
   "metadata": {},
   "outputs": [],
   "source": []
  }
 ],
 "metadata": {
  "kernelspec": {
   "display_name": "Python 3 (ipykernel)",
   "language": "python",
   "name": "python3"
  },
  "language_info": {
   "codemirror_mode": {
    "name": "ipython",
    "version": 3
   },
   "file_extension": ".py",
   "mimetype": "text/x-python",
   "name": "python",
   "nbconvert_exporter": "python",
   "pygments_lexer": "ipython3",
   "version": "3.9.7"
  }
 },
 "nbformat": 4,
 "nbformat_minor": 2
}
