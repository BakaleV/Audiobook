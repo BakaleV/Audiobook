{
 "cells": [
  {
   "cell_type": "markdown",
   "metadata": {},
   "source": [
    "# Audiobooks business case"
   ]
  },
  {
   "cell_type": "markdown",
   "metadata": {},
   "source": [
    "### Problem\n",
    "\n",
    "You are given data from an Audiobook App. Logically, it relates to the audio versions of books ONLY. Each customer in the database has made a purchase at least once, that's why he/she is in the database. We want to create a machine learning algorithm based on our available data that can predict if a customer will buy again from the Audiobook company.\n",
    "\n",
    "The main idea is that if a customer has a low probability of coming back, there is no reason to spend any money on advertising to him/her. If we can focus our efforts SOLELY on customers that are likely to convert again, we can make great savings. Moreover, this model can identify the most important metrics for a customer to come back again. Identifying new customers creates value and growth opportunities.\n",
    "\n",
    "You have a .csv summarizing the data. There are several variables: Customer ID, ), Book length overall (sum of the minute length of all purchases), Book length avg (average length in minutes of all purchases), Price paid_overall (sum of all purchases) ,Price Paid avg (average of all purchases), Review (a Boolean variable whether the customer left a review), Review out of 10 (if the customer left a review, his/her review out of 10, Total minutes listened, Completion (from 0 to 1), Support requests (number of support requests; everything from forgotten password to assistance for using the App), and Last visited minus purchase date (in days).\n",
    "\n",
    "These are the inputs (excluding customer ID, as it is completely arbitrary. It's more like a name, than a number).\n",
    "\n",
    "The targets are a Boolean variable (0 or 1). We are taking a period of 2 years in our inputs, and the next 6 months as targets. So, in fact, we are predicting if: based on the last 2 years of activity and engagement, a customer will convert in the next 6 months. 6 months sounds like a reasonable time. If they don't convert after 6 months, chances are they've gone to a competitor or didn't like the Audiobook way of digesting information. \n",
    "\n",
    "The task is simple: create a machine learning algorithm, which is able to predict if a customer will buy again. \n",
    "\n",
    "This is a classification problem with two classes: won't buy and will buy, represented by 0s and 1s. \n",
    "\n",
    "Good luck!"
   ]
  },
  {
   "cell_type": "markdown",
   "metadata": {},
   "source": [
    "## Preprocess the data. Balance the dataset. Create 3 datasets: training, validation, and test. Save the newly created sets in a tensor friendly format (e.g. *.npz)\n",
    "\n",
    "Since we are dealing with real life data, we will need to preprocess it a bit. This is the relevant code, which is not that hard, but is crucial to creating a good model.\n",
    "\n",
    "If you want to know how to do that, go through the code with comments. In any case, this should do the trick for most datasets organized in the way: many inputs, and then 1 cell containing the targets (supersized learning datasets). Keep in mind that a specific problem may require additional preprocessing.\n",
    "\n",
    "Note that we have removed the header row, which contains the names of the categories. We simply want the data."
   ]
  },
  {
   "cell_type": "markdown",
   "metadata": {},
   "source": [
    "### Extract the data from the csv"
   ]
  },
  {
   "cell_type": "code",
   "execution_count": 17,
   "metadata": {},
   "outputs": [],
   "source": [
    "import numpy as np\n",
    "import tensorflow as tf\n",
    "\n",
    "# We will use the sklearn preprocessing library, as it will be easier to standardize the data.\n",
    "from sklearn import preprocessing\n",
    "\n",
    "# Load the data\n",
    "raw_csv_data = np.loadtxt('Audiobooks_data.csv',delimiter=',')\n",
    "\n",
    "# The inputs are all columns in the csv, except for the first one [:,0]\n",
    "# (which is just the arbitrary customer IDs that bear no useful information),\n",
    "# and the last one [:,-1] (which is our targets)\n",
    "\n",
    "unscaled_inputs_all = raw_csv_data[:,1:-1]\n",
    "\n",
    "# The targets are in the last column. That's how datasets are conventionally organized.\n",
    "targets_all = raw_csv_data[:,-1]"
   ]
  },
  {
   "cell_type": "markdown",
   "metadata": {},
   "source": [
    "### Balance the dataset"
   ]
  },
  {
   "cell_type": "code",
   "execution_count": 18,
   "metadata": {},
   "outputs": [],
   "source": [
    "# Count how many targets are 1 (meaning that the customer did convert)\n",
    "num_one_targets = int(np.sum(targets_all))\n",
    "\n",
    "# Set a counter for targets that are 0 (meaning that the customer did not convert)\n",
    "zero_targets_counter = 0\n",
    "\n",
    "# We want to create a \"balanced\" dataset, so we will have to remove some input/target pairs.\n",
    "# Declare a variable that will do that:\n",
    "indices_to_remove = []\n",
    "\n",
    "# Count the number of targets that are 0. \n",
    "# Once there are as many 0s as 1s, mark entries where the target is 0.\n",
    "for i in range(targets_all.shape[0]):\n",
    "    if targets_all[i] == 0:\n",
    "        zero_targets_counter += 1\n",
    "        if zero_targets_counter > num_one_targets:\n",
    "            indices_to_remove.append(i)\n",
    "\n",
    "# Create two new variables, one that will contain the inputs, and one that will contain the targets.\n",
    "# We delete all indices that we marked \"to remove\" in the loop above.\n",
    "unscaled_inputs_equal_priors = np.delete(unscaled_inputs_all, indices_to_remove, axis=0)\n",
    "targets_equal_priors = np.delete(targets_all, indices_to_remove, axis=0)"
   ]
  },
  {
   "cell_type": "markdown",
   "metadata": {},
   "source": [
    "### Standardize the inputs"
   ]
  },
  {
   "cell_type": "code",
   "execution_count": 19,
   "metadata": {},
   "outputs": [],
   "source": [
    "# That's the only place we use sklearn functionality. We will take advantage of its preprocessing capabilities\n",
    "# It's a simple line of code, which standardizes the inputs, as we explained in one of the lectures.\n",
    "# At the end of the business case, you can try to run the algorithm WITHOUT this line of code. \n",
    "# The result will be interesting.\n",
    "scaled_inputs = preprocessing.scale(unscaled_inputs_equal_priors)"
   ]
  },
  {
   "cell_type": "markdown",
   "metadata": {},
   "source": [
    "### Shuffle the data"
   ]
  },
  {
   "cell_type": "code",
   "execution_count": 20,
   "metadata": {},
   "outputs": [],
   "source": [
    "# When the data was collected it was actually arranged by date\n",
    "# Shuffle the indices of the data, so the data is not arranged in any way when we feed it.\n",
    "# Since we will be batching, we want the data to be as randomly spread out as possible\n",
    "shuffled_indices = np.arange(scaled_inputs.shape[0])\n",
    "np.random.shuffle(shuffled_indices)\n",
    "\n",
    "# Use the shuffled indices to shuffle the inputs and targets.\n",
    "shuffled_inputs = scaled_inputs[shuffled_indices]\n",
    "shuffled_targets = targets_equal_priors[shuffled_indices]"
   ]
  },
  {
   "cell_type": "markdown",
   "metadata": {},
   "source": [
    "### Split the dataset into train, validation, and test"
   ]
  },
  {
   "cell_type": "code",
   "execution_count": 21,
   "metadata": {},
   "outputs": [
    {
     "name": "stdout",
     "output_type": "stream",
     "text": [
      "1796.0 3579 0.5018161497625034\n",
      "223.0 447 0.4988814317673378\n",
      "218.0 448 0.48660714285714285\n"
     ]
    }
   ],
   "source": [
    "# Count the total number of samples\n",
    "samples_count = shuffled_inputs.shape[0]\n",
    "\n",
    "# Count the samples in each subset, assuming we want 80-10-10 distribution of training, validation, and test.\n",
    "# Naturally, the numbers are integers.\n",
    "train_samples_count = int(0.8 * samples_count)\n",
    "validation_samples_count = int(0.1 * samples_count)\n",
    "\n",
    "# The 'test' dataset contains all remaining data.\n",
    "test_samples_count = samples_count - train_samples_count - validation_samples_count\n",
    "\n",
    "# Create variables that record the inputs and targets for training\n",
    "# In our shuffled dataset, they are the first \"train_samples_count\" observations\n",
    "train_inputs = shuffled_inputs[:train_samples_count]\n",
    "train_targets = shuffled_targets[:train_samples_count]\n",
    "\n",
    "# Create variables that record the inputs and targets for validation.\n",
    "# They are the next \"validation_samples_count\" observations, folllowing the \"train_samples_count\" we already assigned\n",
    "validation_inputs = shuffled_inputs[train_samples_count:train_samples_count+validation_samples_count]\n",
    "validation_targets = shuffled_targets[train_samples_count:train_samples_count+validation_samples_count]\n",
    "\n",
    "# Create variables that record the inputs and targets for test.\n",
    "# They are everything that is remaining.\n",
    "test_inputs = shuffled_inputs[train_samples_count+validation_samples_count:]\n",
    "test_targets = shuffled_targets[train_samples_count+validation_samples_count:]\n",
    "\n",
    "# We balanced our dataset to be 50-50 (for targets 0 and 1), but the training, validation, and test were \n",
    "# taken from a shuffled dataset. Check if they are balanced, too. Note that each time you rerun this code, \n",
    "# you will get different values, as each time they are shuffled randomly.\n",
    "# Normally you preprocess ONCE, so you need not rerun this code once it is done.\n",
    "# If you rerun this whole sheet, the npzs will be overwritten with your newly preprocessed data.\n",
    "\n",
    "# Print the number of targets that are 1s, the total number of samples, and the proportion for training, validation, and test.\n",
    "print(np.sum(train_targets), train_samples_count, np.sum(train_targets) / train_samples_count)\n",
    "print(np.sum(validation_targets), validation_samples_count, np.sum(validation_targets) / validation_samples_count)\n",
    "print(np.sum(test_targets), test_samples_count, np.sum(test_targets) / test_samples_count)"
   ]
  },
  {
   "cell_type": "markdown",
   "metadata": {},
   "source": [
    "### Save the three datasets in *.npz"
   ]
  },
  {
   "cell_type": "code",
   "execution_count": 22,
   "metadata": {},
   "outputs": [],
   "source": [
    "# Save the three datasets in *.npz.\n",
    "# In the next lesson, you will see that it is extremely valuable to name them in such a coherent way!\n",
    "\n",
    "np.savez('Audiobooks_data_train', inputs=train_inputs, targets=train_targets)\n",
    "np.savez('Audiobooks_data_validation', inputs=validation_inputs, targets=validation_targets)\n",
    "np.savez('Audiobooks_data_test', inputs=test_inputs, targets=test_targets)"
   ]
  },
  {
   "cell_type": "markdown",
   "metadata": {},
   "source": [
    "### Data"
   ]
  },
  {
   "cell_type": "code",
   "execution_count": 24,
   "metadata": {},
   "outputs": [],
   "source": [
    "# let's create a temporary variable npz, where we will store each of the three Audiobooks datasets\n",
    "npz = np.load('Audiobooks_data_train.npz')\n",
    "\n",
    "# we extract the inputs using the keyword under which we saved them\n",
    "# to ensure that they are all floats, let's also take care of that\n",
    "train_inputs = npz['inputs'].astype(float)\n",
    "# targets must be int because of sparse_categorical_crossentropy (we want to be able to smoothly one-hot encode them)\n",
    "train_targets = npz['targets'].astype(int)\n",
    "\n",
    "# we load the validation data in the temporary variable\n",
    "npz = np.load('Audiobooks_data_validation.npz')\n",
    "# we can load the inputs and the targets in the same line\n",
    "validation_inputs, validation_targets = npz['inputs'].astype(float), npz['targets'].astype(int)\n",
    "\n",
    "# we load the test data in the temporary variable\n",
    "npz = np.load('Audiobooks_data_test.npz')\n",
    "# we create 2 variables that will contain the test inputs and the test targets\n",
    "test_inputs, test_targets = npz['inputs'].astype(float), npz['targets'].astype(int)"
   ]
  },
  {
   "cell_type": "markdown",
   "metadata": {},
   "source": [
    "### Model\n",
    "Outline, optimizers, loss, early stopping and training"
   ]
  },
  {
   "cell_type": "code",
   "execution_count": 25,
   "metadata": {},
   "outputs": [
    {
     "name": "stdout",
     "output_type": "stream",
     "text": [
      "Epoch 1/100\n",
      "36/36 - 1s - loss: 0.6421 - accuracy: 0.6172 - val_loss: 0.5351 - val_accuracy: 0.7181 - 602ms/epoch - 17ms/step\n",
      "Epoch 2/100\n",
      "36/36 - 0s - loss: 0.4870 - accuracy: 0.7536 - val_loss: 0.4451 - val_accuracy: 0.7830 - 84ms/epoch - 2ms/step\n",
      "Epoch 3/100\n",
      "36/36 - 0s - loss: 0.4237 - accuracy: 0.7745 - val_loss: 0.4094 - val_accuracy: 0.7606 - 83ms/epoch - 2ms/step\n",
      "Epoch 4/100\n",
      "36/36 - 0s - loss: 0.3935 - accuracy: 0.7815 - val_loss: 0.3842 - val_accuracy: 0.7987 - 87ms/epoch - 2ms/step\n",
      "Epoch 5/100\n",
      "36/36 - 0s - loss: 0.3755 - accuracy: 0.7983 - val_loss: 0.3701 - val_accuracy: 0.7919 - 90ms/epoch - 2ms/step\n",
      "Epoch 6/100\n",
      "36/36 - 0s - loss: 0.3664 - accuracy: 0.8016 - val_loss: 0.3634 - val_accuracy: 0.8143 - 93ms/epoch - 3ms/step\n",
      "Epoch 7/100\n",
      "36/36 - 0s - loss: 0.3563 - accuracy: 0.8092 - val_loss: 0.3491 - val_accuracy: 0.8031 - 85ms/epoch - 2ms/step\n",
      "Epoch 8/100\n",
      "36/36 - 0s - loss: 0.3489 - accuracy: 0.8148 - val_loss: 0.3519 - val_accuracy: 0.7942 - 90ms/epoch - 2ms/step\n",
      "Epoch 9/100\n",
      "36/36 - 0s - loss: 0.3464 - accuracy: 0.8167 - val_loss: 0.3436 - val_accuracy: 0.8009 - 87ms/epoch - 2ms/step\n",
      "Epoch 10/100\n",
      "36/36 - 0s - loss: 0.3445 - accuracy: 0.8078 - val_loss: 0.3428 - val_accuracy: 0.7942 - 80ms/epoch - 2ms/step\n",
      "Epoch 11/100\n",
      "36/36 - 0s - loss: 0.3393 - accuracy: 0.8100 - val_loss: 0.3373 - val_accuracy: 0.8098 - 90ms/epoch - 2ms/step\n",
      "Epoch 12/100\n",
      "36/36 - 0s - loss: 0.3357 - accuracy: 0.8215 - val_loss: 0.3354 - val_accuracy: 0.8188 - 95ms/epoch - 3ms/step\n",
      "Epoch 13/100\n",
      "36/36 - 0s - loss: 0.3373 - accuracy: 0.8111 - val_loss: 0.3345 - val_accuracy: 0.8098 - 90ms/epoch - 2ms/step\n",
      "Epoch 14/100\n",
      "36/36 - 0s - loss: 0.3333 - accuracy: 0.8187 - val_loss: 0.3327 - val_accuracy: 0.8098 - 81ms/epoch - 2ms/step\n",
      "Epoch 15/100\n",
      "36/36 - 0s - loss: 0.3308 - accuracy: 0.8178 - val_loss: 0.3427 - val_accuracy: 0.8076 - 98ms/epoch - 3ms/step\n",
      "Epoch 16/100\n",
      "36/36 - 0s - loss: 0.3311 - accuracy: 0.8226 - val_loss: 0.3387 - val_accuracy: 0.8098 - 81ms/epoch - 2ms/step\n",
      "Epoch 17/100\n",
      "36/36 - 0s - loss: 0.3289 - accuracy: 0.8203 - val_loss: 0.3282 - val_accuracy: 0.8098 - 91ms/epoch - 3ms/step\n",
      "Epoch 18/100\n",
      "36/36 - 0s - loss: 0.3303 - accuracy: 0.8153 - val_loss: 0.3247 - val_accuracy: 0.8121 - 92ms/epoch - 3ms/step\n",
      "Epoch 19/100\n",
      "36/36 - 0s - loss: 0.3254 - accuracy: 0.8293 - val_loss: 0.3259 - val_accuracy: 0.8076 - 91ms/epoch - 3ms/step\n",
      "Epoch 20/100\n",
      "36/36 - 0s - loss: 0.3249 - accuracy: 0.8212 - val_loss: 0.3369 - val_accuracy: 0.8188 - 85ms/epoch - 2ms/step\n",
      "Epoch 21/100\n",
      "36/36 - 0s - loss: 0.3246 - accuracy: 0.8178 - val_loss: 0.3330 - val_accuracy: 0.8031 - 91ms/epoch - 3ms/step\n",
      "Epoch 22/100\n",
      "36/36 - 0s - loss: 0.3233 - accuracy: 0.8229 - val_loss: 0.3290 - val_accuracy: 0.8009 - 96ms/epoch - 3ms/step\n",
      "Epoch 23/100\n",
      "36/36 - 0s - loss: 0.3203 - accuracy: 0.8265 - val_loss: 0.3197 - val_accuracy: 0.8233 - 72ms/epoch - 2ms/step\n",
      "Epoch 24/100\n",
      "36/36 - 0s - loss: 0.3207 - accuracy: 0.8248 - val_loss: 0.3219 - val_accuracy: 0.8009 - 72ms/epoch - 2ms/step\n",
      "Epoch 25/100\n",
      "36/36 - 0s - loss: 0.3187 - accuracy: 0.8254 - val_loss: 0.3265 - val_accuracy: 0.8143 - 72ms/epoch - 2ms/step\n",
      "Epoch 26/100\n",
      "36/36 - 0s - loss: 0.3202 - accuracy: 0.8298 - val_loss: 0.3187 - val_accuracy: 0.8143 - 69ms/epoch - 2ms/step\n",
      "Epoch 27/100\n",
      "36/36 - 0s - loss: 0.3170 - accuracy: 0.8284 - val_loss: 0.3277 - val_accuracy: 0.8054 - 66ms/epoch - 2ms/step\n",
      "Epoch 28/100\n",
      "36/36 - 0s - loss: 0.3209 - accuracy: 0.8248 - val_loss: 0.3236 - val_accuracy: 0.8143 - 71ms/epoch - 2ms/step\n",
      "Epoch 29/100\n",
      "36/36 - 0s - loss: 0.3206 - accuracy: 0.8203 - val_loss: 0.3255 - val_accuracy: 0.8188 - 72ms/epoch - 2ms/step\n",
      "Epoch 30/100\n",
      "36/36 - 0s - loss: 0.3140 - accuracy: 0.8329 - val_loss: 0.3171 - val_accuracy: 0.8300 - 80ms/epoch - 2ms/step\n",
      "Epoch 31/100\n",
      "36/36 - 0s - loss: 0.3206 - accuracy: 0.8243 - val_loss: 0.3315 - val_accuracy: 0.8143 - 80ms/epoch - 2ms/step\n",
      "Epoch 32/100\n",
      "36/36 - 0s - loss: 0.3173 - accuracy: 0.8262 - val_loss: 0.3228 - val_accuracy: 0.8098 - 72ms/epoch - 2ms/step\n",
      "Epoch 33/100\n",
      "36/36 - 0s - loss: 0.3150 - accuracy: 0.8226 - val_loss: 0.3217 - val_accuracy: 0.8098 - 72ms/epoch - 2ms/step\n",
      "Epoch 34/100\n",
      "36/36 - 0s - loss: 0.3163 - accuracy: 0.8318 - val_loss: 0.3198 - val_accuracy: 0.8098 - 73ms/epoch - 2ms/step\n",
      "Epoch 35/100\n",
      "36/36 - 0s - loss: 0.3144 - accuracy: 0.8282 - val_loss: 0.3266 - val_accuracy: 0.8143 - 69ms/epoch - 2ms/step\n",
      "Epoch 36/100\n",
      "36/36 - 0s - loss: 0.3139 - accuracy: 0.8245 - val_loss: 0.3298 - val_accuracy: 0.7987 - 67ms/epoch - 2ms/step\n",
      "Epoch 37/100\n",
      "36/36 - 0s - loss: 0.3157 - accuracy: 0.8259 - val_loss: 0.3241 - val_accuracy: 0.8121 - 68ms/epoch - 2ms/step\n",
      "Epoch 38/100\n",
      "36/36 - 0s - loss: 0.3149 - accuracy: 0.8203 - val_loss: 0.3215 - val_accuracy: 0.8188 - 76ms/epoch - 2ms/step\n",
      "Epoch 39/100\n",
      "36/36 - 0s - loss: 0.3127 - accuracy: 0.8324 - val_loss: 0.3153 - val_accuracy: 0.8143 - 72ms/epoch - 2ms/step\n",
      "Epoch 40/100\n",
      "36/36 - 0s - loss: 0.3147 - accuracy: 0.8335 - val_loss: 0.3178 - val_accuracy: 0.8188 - 72ms/epoch - 2ms/step\n",
      "Epoch 41/100\n",
      "36/36 - 0s - loss: 0.3123 - accuracy: 0.8270 - val_loss: 0.3245 - val_accuracy: 0.8300 - 76ms/epoch - 2ms/step\n",
      "Epoch 42/100\n",
      "36/36 - 0s - loss: 0.3193 - accuracy: 0.8231 - val_loss: 0.3214 - val_accuracy: 0.8121 - 70ms/epoch - 2ms/step\n",
      "Epoch 43/100\n",
      "36/36 - 0s - loss: 0.3124 - accuracy: 0.8243 - val_loss: 0.3303 - val_accuracy: 0.8121 - 71ms/epoch - 2ms/step\n",
      "Epoch 44/100\n",
      "36/36 - 0s - loss: 0.3109 - accuracy: 0.8307 - val_loss: 0.3174 - val_accuracy: 0.8188 - 71ms/epoch - 2ms/step\n",
      "Epoch 45/100\n",
      "36/36 - 0s - loss: 0.3182 - accuracy: 0.8187 - val_loss: 0.3232 - val_accuracy: 0.8143 - 77ms/epoch - 2ms/step\n",
      "Epoch 46/100\n",
      "36/36 - 0s - loss: 0.3207 - accuracy: 0.8243 - val_loss: 0.3295 - val_accuracy: 0.8166 - 80ms/epoch - 2ms/step\n",
      "Epoch 47/100\n",
      "36/36 - 0s - loss: 0.3153 - accuracy: 0.8273 - val_loss: 0.3203 - val_accuracy: 0.8233 - 72ms/epoch - 2ms/step\n",
      "Epoch 48/100\n",
      "36/36 - 0s - loss: 0.3122 - accuracy: 0.8324 - val_loss: 0.3202 - val_accuracy: 0.8054 - 72ms/epoch - 2ms/step\n",
      "Epoch 49/100\n",
      "36/36 - 0s - loss: 0.3130 - accuracy: 0.8240 - val_loss: 0.3415 - val_accuracy: 0.7987 - 80ms/epoch - 2ms/step\n",
      "Epoch 50/100\n",
      "36/36 - 0s - loss: 0.3137 - accuracy: 0.8256 - val_loss: 0.3310 - val_accuracy: 0.8031 - 67ms/epoch - 2ms/step\n",
      "Epoch 51/100\n",
      "36/36 - 0s - loss: 0.3118 - accuracy: 0.8279 - val_loss: 0.3168 - val_accuracy: 0.8277 - 70ms/epoch - 2ms/step\n",
      "Epoch 52/100\n",
      "36/36 - 0s - loss: 0.3138 - accuracy: 0.8301 - val_loss: 0.3122 - val_accuracy: 0.8233 - 68ms/epoch - 2ms/step\n",
      "Epoch 53/100\n",
      "36/36 - 0s - loss: 0.3106 - accuracy: 0.8273 - val_loss: 0.3184 - val_accuracy: 0.8210 - 69ms/epoch - 2ms/step\n",
      "Epoch 54/100\n",
      "36/36 - 0s - loss: 0.3077 - accuracy: 0.8338 - val_loss: 0.3208 - val_accuracy: 0.8345 - 80ms/epoch - 2ms/step\n",
      "Epoch 55/100\n",
      "36/36 - 0s - loss: 0.3091 - accuracy: 0.8332 - val_loss: 0.3122 - val_accuracy: 0.8233 - 80ms/epoch - 2ms/step\n",
      "Epoch 56/100\n",
      "36/36 - 0s - loss: 0.3094 - accuracy: 0.8315 - val_loss: 0.3264 - val_accuracy: 0.8076 - 72ms/epoch - 2ms/step\n",
      "Epoch 57/100\n",
      "36/36 - 0s - loss: 0.3124 - accuracy: 0.8282 - val_loss: 0.3226 - val_accuracy: 0.8143 - 80ms/epoch - 2ms/step\n",
      "Epoch 58/100\n",
      "36/36 - 0s - loss: 0.3110 - accuracy: 0.8307 - val_loss: 0.3170 - val_accuracy: 0.8210 - 68ms/epoch - 2ms/step\n",
      "Epoch 59/100\n",
      "36/36 - 0s - loss: 0.3100 - accuracy: 0.8284 - val_loss: 0.3105 - val_accuracy: 0.8277 - 68ms/epoch - 2ms/step\n",
      "Epoch 60/100\n",
      "36/36 - 0s - loss: 0.3127 - accuracy: 0.8290 - val_loss: 0.3272 - val_accuracy: 0.8076 - 69ms/epoch - 2ms/step\n",
      "Epoch 61/100\n",
      "36/36 - 0s - loss: 0.3075 - accuracy: 0.8310 - val_loss: 0.3231 - val_accuracy: 0.8233 - 69ms/epoch - 2ms/step\n",
      "Epoch 62/100\n",
      "36/36 - 0s - loss: 0.3126 - accuracy: 0.8268 - val_loss: 0.3357 - val_accuracy: 0.7942 - 69ms/epoch - 2ms/step\n",
      "Epoch 63/100\n",
      "36/36 - 0s - loss: 0.3086 - accuracy: 0.8315 - val_loss: 0.3172 - val_accuracy: 0.8166 - 70ms/epoch - 2ms/step\n",
      "Epoch 64/100\n",
      "36/36 - 0s - loss: 0.3065 - accuracy: 0.8226 - val_loss: 0.3147 - val_accuracy: 0.8166 - 72ms/epoch - 2ms/step\n",
      "Epoch 65/100\n",
      "36/36 - 0s - loss: 0.3057 - accuracy: 0.8332 - val_loss: 0.3185 - val_accuracy: 0.8233 - 72ms/epoch - 2ms/step\n",
      "Epoch 66/100\n",
      "36/36 - 0s - loss: 0.3090 - accuracy: 0.8310 - val_loss: 0.3228 - val_accuracy: 0.8233 - 71ms/epoch - 2ms/step\n",
      "Epoch 67/100\n",
      "36/36 - 0s - loss: 0.3088 - accuracy: 0.8301 - val_loss: 0.3165 - val_accuracy: 0.8143 - 72ms/epoch - 2ms/step\n"
     ]
    },
    {
     "name": "stdout",
     "output_type": "stream",
     "text": [
      "Epoch 68/100\n",
      "36/36 - 0s - loss: 0.3093 - accuracy: 0.8290 - val_loss: 0.3172 - val_accuracy: 0.8233 - 72ms/epoch - 2ms/step\n",
      "Epoch 69/100\n",
      "36/36 - 0s - loss: 0.3091 - accuracy: 0.8282 - val_loss: 0.3166 - val_accuracy: 0.8054 - 72ms/epoch - 2ms/step\n",
      "Epoch 70/100\n",
      "36/36 - 0s - loss: 0.3059 - accuracy: 0.8354 - val_loss: 0.3127 - val_accuracy: 0.8277 - 70ms/epoch - 2ms/step\n",
      "Epoch 71/100\n",
      "36/36 - 0s - loss: 0.3084 - accuracy: 0.8254 - val_loss: 0.3263 - val_accuracy: 0.8143 - 64ms/epoch - 2ms/step\n",
      "Epoch 72/100\n",
      "36/36 - 0s - loss: 0.3066 - accuracy: 0.8326 - val_loss: 0.3156 - val_accuracy: 0.8188 - 65ms/epoch - 2ms/step\n",
      "Epoch 73/100\n",
      "36/36 - 0s - loss: 0.3050 - accuracy: 0.8324 - val_loss: 0.3147 - val_accuracy: 0.8322 - 67ms/epoch - 2ms/step\n",
      "Epoch 74/100\n",
      "36/36 - 0s - loss: 0.3052 - accuracy: 0.8343 - val_loss: 0.3145 - val_accuracy: 0.8233 - 71ms/epoch - 2ms/step\n",
      "Epoch 75/100\n",
      "36/36 - 0s - loss: 0.3100 - accuracy: 0.8321 - val_loss: 0.3356 - val_accuracy: 0.8054 - 70ms/epoch - 2ms/step\n",
      "Epoch 76/100\n",
      "36/36 - 0s - loss: 0.3085 - accuracy: 0.8363 - val_loss: 0.3178 - val_accuracy: 0.8143 - 70ms/epoch - 2ms/step\n",
      "Epoch 77/100\n",
      "36/36 - 0s - loss: 0.3079 - accuracy: 0.8321 - val_loss: 0.3179 - val_accuracy: 0.8121 - 74ms/epoch - 2ms/step\n",
      "Epoch 78/100\n",
      "36/36 - 0s - loss: 0.3048 - accuracy: 0.8312 - val_loss: 0.3137 - val_accuracy: 0.8188 - 72ms/epoch - 2ms/step\n",
      "Epoch 79/100\n",
      "36/36 - 0s - loss: 0.3089 - accuracy: 0.8276 - val_loss: 0.3186 - val_accuracy: 0.8210 - 70ms/epoch - 2ms/step\n",
      "Epoch 80/100\n",
      "36/36 - 0s - loss: 0.3053 - accuracy: 0.8343 - val_loss: 0.3252 - val_accuracy: 0.8166 - 70ms/epoch - 2ms/step\n",
      "Epoch 81/100\n",
      "36/36 - 0s - loss: 0.3087 - accuracy: 0.8326 - val_loss: 0.3156 - val_accuracy: 0.8210 - 70ms/epoch - 2ms/step\n",
      "Epoch 82/100\n",
      "36/36 - 0s - loss: 0.3076 - accuracy: 0.8298 - val_loss: 0.3225 - val_accuracy: 0.8076 - 76ms/epoch - 2ms/step\n",
      "Epoch 83/100\n",
      "36/36 - 0s - loss: 0.3072 - accuracy: 0.8304 - val_loss: 0.3131 - val_accuracy: 0.8277 - 70ms/epoch - 2ms/step\n",
      "Epoch 84/100\n",
      "36/36 - 0s - loss: 0.3082 - accuracy: 0.8265 - val_loss: 0.3269 - val_accuracy: 0.8166 - 74ms/epoch - 2ms/step\n",
      "Epoch 85/100\n",
      "36/36 - 0s - loss: 0.3056 - accuracy: 0.8321 - val_loss: 0.3174 - val_accuracy: 0.8188 - 70ms/epoch - 2ms/step\n",
      "Epoch 86/100\n",
      "36/36 - 0s - loss: 0.3068 - accuracy: 0.8287 - val_loss: 0.3242 - val_accuracy: 0.8076 - 70ms/epoch - 2ms/step\n",
      "Epoch 87/100\n",
      "36/36 - 0s - loss: 0.3078 - accuracy: 0.8251 - val_loss: 0.3186 - val_accuracy: 0.8233 - 72ms/epoch - 2ms/step\n",
      "Epoch 88/100\n",
      "36/36 - 0s - loss: 0.3061 - accuracy: 0.8335 - val_loss: 0.3281 - val_accuracy: 0.8031 - 72ms/epoch - 2ms/step\n",
      "Epoch 89/100\n",
      "36/36 - 0s - loss: 0.3096 - accuracy: 0.8351 - val_loss: 0.3151 - val_accuracy: 0.8098 - 72ms/epoch - 2ms/step\n",
      "Epoch 90/100\n",
      "36/36 - 0s - loss: 0.3062 - accuracy: 0.8301 - val_loss: 0.3135 - val_accuracy: 0.8210 - 62ms/epoch - 2ms/step\n",
      "Epoch 91/100\n",
      "36/36 - 0s - loss: 0.3025 - accuracy: 0.8393 - val_loss: 0.3305 - val_accuracy: 0.8166 - 70ms/epoch - 2ms/step\n",
      "Epoch 92/100\n",
      "36/36 - 0s - loss: 0.3125 - accuracy: 0.8245 - val_loss: 0.3175 - val_accuracy: 0.8277 - 69ms/epoch - 2ms/step\n",
      "Epoch 93/100\n",
      "36/36 - 0s - loss: 0.3038 - accuracy: 0.8332 - val_loss: 0.3255 - val_accuracy: 0.8166 - 74ms/epoch - 2ms/step\n",
      "Epoch 94/100\n",
      "36/36 - 0s - loss: 0.3014 - accuracy: 0.8382 - val_loss: 0.3139 - val_accuracy: 0.8255 - 74ms/epoch - 2ms/step\n",
      "Epoch 95/100\n",
      "36/36 - 0s - loss: 0.3024 - accuracy: 0.8377 - val_loss: 0.3194 - val_accuracy: 0.8098 - 72ms/epoch - 2ms/step\n",
      "Epoch 96/100\n",
      "36/36 - 0s - loss: 0.3027 - accuracy: 0.8379 - val_loss: 0.3194 - val_accuracy: 0.8188 - 72ms/epoch - 2ms/step\n",
      "Epoch 97/100\n",
      "36/36 - 0s - loss: 0.3030 - accuracy: 0.8318 - val_loss: 0.3193 - val_accuracy: 0.8054 - 61ms/epoch - 2ms/step\n",
      "Epoch 98/100\n",
      "36/36 - 0s - loss: 0.3033 - accuracy: 0.8318 - val_loss: 0.3137 - val_accuracy: 0.8166 - 72ms/epoch - 2ms/step\n",
      "Epoch 99/100\n",
      "36/36 - 0s - loss: 0.3039 - accuracy: 0.8321 - val_loss: 0.3155 - val_accuracy: 0.8188 - 67ms/epoch - 2ms/step\n",
      "Epoch 100/100\n",
      "36/36 - 0s - loss: 0.3063 - accuracy: 0.8329 - val_loss: 0.3156 - val_accuracy: 0.8121 - 66ms/epoch - 2ms/step\n"
     ]
    },
    {
     "data": {
      "text/plain": [
       "<keras.callbacks.History at 0x1d082b09b20>"
      ]
     },
     "execution_count": 25,
     "metadata": {},
     "output_type": "execute_result"
    }
   ],
   "source": [
    "# Set the input and output sizes\n",
    "input_size = 10\n",
    "output_size = 2\n",
    "# Use same hidden layer size for both hidden layers. Not a necessity.\n",
    "hidden_layer_size = 50\n",
    "    \n",
    "# define how the model will look like\n",
    "model = tf.keras.Sequential([\n",
    "    # tf.keras.layers.Dense is basically implementing: output = activation(dot(input, weight) + bias)\n",
    "    # it takes several arguments, but the most important ones for us are the hidden_layer_size and the activation function\n",
    "    tf.keras.layers.Dense(hidden_layer_size, activation='relu'), # 1st hidden layer\n",
    "    tf.keras.layers.Dense(hidden_layer_size, activation='relu'), # 2nd hidden layer\n",
    "    # the final layer is no different, we just make sure to activate it with softmax\n",
    "    tf.keras.layers.Dense(output_size, activation='softmax') # output layer\n",
    "])\n",
    "\n",
    "\n",
    "### Choose the optimizer and the loss function\n",
    "\n",
    "# we define the optimizer we'd like to use, \n",
    "# the loss function, \n",
    "# and the metrics we are interested in obtaining at each iteration\n",
    "model.compile(optimizer='adam', loss='sparse_categorical_crossentropy', metrics=['accuracy'])\n",
    "\n",
    "### Training\n",
    "# That's where we train the model we have built.\n",
    "\n",
    "# set the batch size\n",
    "batch_size = 100\n",
    "\n",
    "# set a maximum number of training epochs\n",
    "max_epochs = 100\n",
    "\n",
    "\n",
    "# fit the model\n",
    "# note that this time the train, validation and test data are not iterable\n",
    "model.fit(train_inputs, # train inputs\n",
    "          train_targets, # train targets\n",
    "          batch_size=batch_size, # batch size\n",
    "          epochs=max_epochs, # epochs that we will train for (assuming early stopping doesn't kick in)\n",
    "          validation_data=(validation_inputs, validation_targets), # validation data\n",
    "          verbose = 2 # making sure we get enough information about the training process\n",
    "          )  "
   ]
  },
  {
   "cell_type": "markdown",
   "metadata": {},
   "source": [
    "## Test the model\n",
    "\n",
    "As we discussed in the lectures, after training on the training data and validating on the validation data, we test the final prediction power of our model by running it on the test dataset that the algorithm has NEVER seen before.\n",
    "\n",
    "It is very important to realize that fiddling with the hyperparameters overfits the validation dataset. \n",
    "\n",
    "The test is the absolute final instance. You should not test before you are completely done with adjusting your model.\n",
    "\n",
    "If you adjust your model after testing, you will start overfitting the test dataset, which will defeat its purpose."
   ]
  },
  {
   "cell_type": "code",
   "execution_count": 16,
   "metadata": {},
   "outputs": [
    {
     "name": "stdout",
     "output_type": "stream",
     "text": [
      "14/14 [==============================] - 0s 2ms/step - loss: 0.3316 - accuracy: 0.8125\n"
     ]
    }
   ],
   "source": [
    "test_loss, test_accuracy = model.evaluate(test_inputs, test_targets)"
   ]
  },
  {
   "cell_type": "code",
   "execution_count": null,
   "metadata": {},
   "outputs": [],
   "source": [
    "print('\\nTest loss: {0:.2f}. Test accuracy: {1:.2f}%'.format(test_loss, test_accuracy*100.))"
   ]
  }
 ],
 "metadata": {
  "kernelspec": {
   "display_name": "Python 3 (ipykernel)",
   "language": "python",
   "name": "python3"
  },
  "language_info": {
   "codemirror_mode": {
    "name": "ipython",
    "version": 3
   },
   "file_extension": ".py",
   "mimetype": "text/x-python",
   "name": "python",
   "nbconvert_exporter": "python",
   "pygments_lexer": "ipython3",
   "version": "3.9.7"
  }
 },
 "nbformat": 4,
 "nbformat_minor": 2
}
